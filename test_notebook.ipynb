{
  "nbformat": 4,
  "nbformat_minor": 0,
  "metadata": {
    "colab": {
      "provenance": []
    },
    "kernelspec": {
      "name": "python3",
      "display_name": "Python 3"
    },
    "language_info": {
      "name": "python"
    }
  },
  "cells": [
    {
      "cell_type": "code",
      "execution_count": 30,
      "metadata": {
        "id": "KYczNNHuRJhK"
      },
      "outputs": [],
      "source": [
        "import matplotlib.pyplot as plt\n",
        "import tensorflow as tf\n",
        "import numpy as np\n",
        "import cv2"
      ]
    },
    {
      "cell_type": "code",
      "source": [
        "path = \"image.png\"\n",
        "image = cv2.imread(path, cv2.IMREAD_GRAYSCALE)"
      ],
      "metadata": {
        "id": "X5Qi51qtRdPl"
      },
      "execution_count": 31,
      "outputs": []
    },
    {
      "cell_type": "code",
      "source": [
        "if image is not None:\n",
        "    # Convert the image to a NumPy array\n",
        "    img = np.array(image)\n",
        "    for i in range(280):\n",
        "      for j in range(280):\n",
        "          img[i][j] = 255. - img[i][j]\n",
        "    # Print the shape of the NumPy array\n",
        "    print(\"Shape of the NumPy array:\", img.shape)\n",
        "    print(\"array:\", img)\n",
        "else:\n",
        "    print(\"Failed to load the image.\")"
      ],
      "metadata": {
        "colab": {
          "base_uri": "https://localhost:8080/"
        },
        "id": "pQA5i6_MSLJA",
        "outputId": "ef99d82e-2534-48d8-837b-48cb8aa9d097"
      },
      "execution_count": 32,
      "outputs": [
        {
          "output_type": "stream",
          "name": "stdout",
          "text": [
            "Shape of the NumPy array: (280, 280)\n",
            "array: [[0 0 0 ... 0 0 0]\n",
            " [0 0 0 ... 0 0 0]\n",
            " [0 0 0 ... 0 0 0]\n",
            " ...\n",
            " [0 0 0 ... 0 0 0]\n",
            " [0 0 0 ... 0 0 0]\n",
            " [0 0 0 ... 0 0 0]]\n"
          ]
        }
      ]
    },
    {
      "cell_type": "code",
      "source": [
        "img = cv2.resize(img, (28, 28))\n",
        "img = cv2.GaussianBlur(img, (3, 3), 0)"
      ],
      "metadata": {
        "id": "e7h0g9uMS-Fi"
      },
      "execution_count": 33,
      "outputs": []
    },
    {
      "cell_type": "code",
      "source": [
        "print(np.max(img), img.min())\n",
        "\n",
        "model = tf.keras.models.load_model('mnist.keras')\n",
        "print(np.argmax(model.predict(np.reshape(img, (1, 28*28)).astype('float32') / 255)[0]))\n",
        "\n",
        "plt.imshow(img, cmap = 'gray')\n",
        "plt.show()"
      ],
      "metadata": {
        "colab": {
          "base_uri": "https://localhost:8080/",
          "height": 485
        },
        "id": "3uDrLjmnTPEl",
        "outputId": "ecefb018-abe4-41b3-fbad-5e676a73d951"
      },
      "execution_count": 34,
      "outputs": [
        {
          "output_type": "stream",
          "name": "stdout",
          "text": [
            "207 0\n",
            "1/1 [==============================] - 0s 109ms/step\n",
            "3\n"
          ]
        },
        {
          "output_type": "display_data",
          "data": {
            "text/plain": [
              "<Figure size 640x480 with 1 Axes>"
            ],
            "image/png": "[encoded data removed]"
          },
          "metadata": {}
        }
      ]
    }
  ]
}